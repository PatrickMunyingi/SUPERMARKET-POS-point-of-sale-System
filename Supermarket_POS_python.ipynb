{
  "nbformat": 4,
  "nbformat_minor": 0,
  "metadata": {
    "colab": {
      "provenance": []
    },
    "kernelspec": {
      "name": "python3",
      "display_name": "Python 3"
    },
    "language_info": {
      "name": "python"
    }
  },
  "cells": [
    {
      "cell_type": "code",
      "execution_count": null,
      "metadata": {
        "id": "ohp7-ppAowmx"
      },
      "outputs": [],
      "source": [
        "#Here we will make relevant importation of the libraries we will use \n",
        "import random\n",
        "lottery_no=int(random.randint(0,2))\n",
        "winnings=int(random.randint(2,10))#To get the full amount of winnings we will multilpy the output of the winnings by 100"
      ]
    },
    {
      "cell_type": "code",
      "source": [
        "#We will then define our variables \n",
        "# For the money ww will be able to spend,we will define it as follows:\n",
        "funds_available=int(400)\n",
        "\n",
        "#For our goods and their prices we will allocate them in a python dictionary as follows:\n",
        "goods_available={}#This is an empty dictionary.\n",
        "goods_availableDict={}\n",
        "#To fill our dictionary now\n",
        "goods_available['Lottery Tickets']=200\n",
        "goods_available['Bread']=95\n",
        "goods_available['Milk']=70\n",
        "goods_available['Sodas']=60\n",
        "print(goods_available)"
      ],
      "metadata": {
        "colab": {
          "base_uri": "https://localhost:8080/"
        },
        "id": "FE2UM0T_qjCI",
        "outputId": "b4a963b5-1e4d-4b40-8888-6aa0192bc3dd"
      },
      "execution_count": null,
      "outputs": [
        {
          "output_type": "stream",
          "name": "stdout",
          "text": [
            "{'Lottery Tickets': 200, 'Bread': 95, 'Milk': 70, 'Sodas': 60}\n"
          ]
        }
      ]
    },
    {
      "cell_type": "code",
      "source": [
        "#We will then proceed to define the user's name as a variable\n",
        "user=input(\"Please enter your name:     \")\n",
        "#Then proceed to print a welcome message\n",
        "welcome_message=f\"Welcome to my store         {user}\"\n",
        "print(\"*\"*45)#This prints out asterixs to make our menu attractive\n",
        "print(welcome_message)\n",
        "print(\"*\"*45)#This prints out asterixs to make our menu attractive\n",
        "#We now want to display our items that are available\n",
        "print(\"Items available in the store include :\")\n",
        "print(goods_available)\n",
        "print(\"*\"*45)\n",
        "#Prompt the user to buy lottery tickets\n",
        "lottery=input(\"Do you wish to buy a lottery ticket? (y/n): \")\n",
        "if lottery.lower()== \"y\":\n",
        "  quantity=int(input(\"Add quantity \"))\n",
        "  #Write a function to define the loterry ticket winnings\n",
        "  if  lottery_no==0:\n",
        "    lottery_bill=((funds_available)-(quantity*goods_available['Lottery Tickets']))+(winnings*100)\n",
        "    print(f\"The total bill is {lottery_bill}\")\n",
        "    Remaining_funds=lottery_bill\n",
        "    print(f\"The total amount left to spend is {lottery_bill}\")\n",
        "  else:\n",
        "    Remaining_funds=(funds_available)-(quantity*goods_available['Lottery Tickets'])\n",
        "    print(f\"The total amaount left to spend is {Remaining_funds}: \")\n",
        "\n",
        "#Prompt the user to buy bread\n",
        "Bread=input(\"Do you wish to buy bread? (y/n): \")\n",
        "if Bread.lower()==\"y\":\n",
        "    quantity=int(input(\"Add quantity \"))\n",
        "    bread_bill=quantity*goods_available['Bread']\n",
        "    print(f\"The total bill is {bread_bill} \")\n",
        "    Remaining_funds=Remaining_funds-goods_available['Bread']\n",
        "    print(f\"The total amount left to spend is {Remaining_funds}: \")\n",
        "    #Prompt the user to buy Milk\n",
        "milk=input(\"Do you wish to buy milk? (y/n): \")\n",
        "if milk.lower()==\"y\":\n",
        "    quantity=int(input(\"Add quantity \"))\n",
        "    milk_bill=quantity*goods_available['Milk']\n",
        "    print(f\"The total bill is {milk_bill} \")\n",
        "    Remaining_funds=Remaining_funds-goods_available['Milk']\n",
        "    print(f\"The total amount left to spend is {Remaining_funds}: \")\n",
        "#Prompt the user to buy sodas\n",
        "sodas=input(\"Do you wish to buy soda? (y/n): \")\n",
        "if sodas.lower()==\"y\":\n",
        "  quantity=int(input(\"Add quantity \"))\n",
        "  sodas_bill=quantity*goods_available['Sodas']\n",
        "  Remaining_funds=Remaining_funds-sodas_bill\n",
        "  total_bill=sodas_bill+Remaining_funds\n",
        "  print(f\"The total bill is {total_bill}\")\n",
        "  print(f\"The total amount left to spend is {Remaining_funds}: \")\n",
        "print(\"\\n\\n\")\n",
        "print(\"****BILL SUMMARY****\")\n",
        "print(\"\\n\")\n",
        "\n",
        "print(f\"The total Bill is {Remaining_funds}\")\n",
        "if Remaining_funds<0:\n",
        "  print(\"You do not have enough cash to continue shopping\")\n",
        "else:\n",
        "  print(\"Thank you for shopping\")\n"
      ],
      "metadata": {
        "id": "JgqoczJRsGS8",
        "colab": {
          "base_uri": "https://localhost:8080/"
        },
        "outputId": "883616de-1bc6-4fe9-a890-de2e5b6fb076"
      },
      "execution_count": null,
      "outputs": [
        {
          "output_type": "stream",
          "name": "stdout",
          "text": [
            "Please enter your name:     e\n",
            "*********************************************\n",
            "Welcome to my store         e\n",
            "*********************************************\n",
            "Items available in the store include :\n",
            "{'Lottery Tickets': 200, 'Bread': 95, 'Milk': 70, 'Sodas': 60}\n",
            "*********************************************\n",
            "Do you wish to buy a lottery ticket? (y/n): y\n",
            "Add quantity 1\n",
            "The total bill is 500\n",
            "The total amount left to spend is 500\n",
            "Do you wish to buy bread? (y/n): 1\n",
            "Do you wish to buy milk? (y/n): y\n",
            "Add quantity 1\n",
            "The total bill is 70 \n",
            "The total amount left to spend is 430: \n",
            "Do you wish to buy soda? (y/n): y\n",
            "Add quantity 1\n",
            "The total bill is 430\n",
            "The total amount left to spend is 370: \n",
            "\n",
            "\n",
            "\n",
            "****BILL SUMMARY****\n",
            "\n",
            "\n",
            "The total Bill is 370\n",
            "Thank you for shopping\n"
          ]
        }
      ]
    },
    {
      "cell_type": "markdown",
      "source": [
        "# New Section"
      ],
      "metadata": {
        "id": "x28LPgVnzB4b"
      }
    },
    {
      "cell_type": "markdown",
      "source": [
        "# New Section"
      ],
      "metadata": {
        "id": "XfEe6TXIzB9L"
      }
    },
    {
      "cell_type": "markdown",
      "source": [
        "# New Section"
      ],
      "metadata": {
        "id": "vseIHGBPzB-m"
      }
    },
    {
      "cell_type": "markdown",
      "source": [
        "# New Section"
      ],
      "metadata": {
        "id": "HZTtdpJBzCAG"
      }
    },
    {
      "cell_type": "code",
      "source": [],
      "metadata": {
        "id": "epg_dMoRTJRw"
      },
      "execution_count": null,
      "outputs": []
    }
  ]
}